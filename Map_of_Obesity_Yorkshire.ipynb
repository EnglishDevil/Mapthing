{
  "nbformat": 4,
  "nbformat_minor": 0,
  "metadata": {
    "colab": {
      "name": "Map of Obesity Yorkshire",
      "version": "0.3.2",
      "provenance": [],
      "collapsed_sections": [
        "-PeOH6I5BC1F"
      ],
      "include_colab_link": true
    },
    "kernelspec": {
      "name": "python3",
      "display_name": "Python 3"
    }
  },
  "cells": [
    {
      "cell_type": "markdown",
      "metadata": {
        "id": "view-in-github",
        "colab_type": "text"
      },
      "source": [
        "<a href=\"https://colab.research.google.com/github/EnglishDevil/Mapthing/blob/master/Map_of_Obesity_Yorkshire.ipynb\" target=\"_parent\"><img src=\"https://colab.research.google.com/assets/colab-badge.svg\" alt=\"Open In Colab\"/></a>"
      ]
    },
    {
      "cell_type": "markdown",
      "metadata": {
        "id": "D_45lWmvT9kU",
        "colab_type": "text"
      },
      "source": [
        "# Map showing prescriptions for obesity in Yorkshire and the humber"
      ]
    },
    {
      "cell_type": "markdown",
      "metadata": {
        "id": "4m_Ajz7xQPGK",
        "colab_type": "text"
      },
      "source": [
        "Learn how to make maps of the UK with numbers superimposed over it.\n",
        "Graphs, bar charts etc\n",
        "\n",
        "Mental health data "
      ]
    },
    {
      "cell_type": "markdown",
      "metadata": {
        "id": "9pr9KQfPT7Q0",
        "colab_type": "text"
      },
      "source": [
        ""
      ]
    },
    {
      "cell_type": "markdown",
      "metadata": {
        "id": "19SQuRFdAyHT",
        "colab_type": "text"
      },
      "source": [
        "# Install the required libraries"
      ]
    },
    {
      "cell_type": "code",
      "metadata": {
        "id": "cBubLoHiU6Hc",
        "colab_type": "code",
        "outputId": "053c95ab-44cc-42a9-9f78-a2a3c91c9563",
        "colab": {
          "base_uri": "https://localhost:8080/",
          "height": 975
        }
      },
      "source": [
        "!apt-get install  libgeos-3.5.0\n",
        "!apt-get install  libgeos-dev\n",
        "!pip install  https://github.com/matplotlib/basemap/archive/master.zip"
      ],
      "execution_count": 1,
      "outputs": [
        {
          "output_type": "stream",
          "text": [
            "Reading package lists... Done\n",
            "Building dependency tree       \n",
            "Reading state information... Done\n",
            "E: Unable to locate package libgeos-3.5.0\n",
            "E: Couldn't find any package by glob 'libgeos-3.5.0'\n",
            "E: Couldn't find any package by regex 'libgeos-3.5.0'\n",
            "Reading package lists... Done\n",
            "Building dependency tree       \n",
            "Reading state information... Done\n",
            "The following package was automatically installed and is no longer required:\n",
            "  libnvidia-common-410\n",
            "Use 'apt autoremove' to remove it.\n",
            "Suggested packages:\n",
            "  libgdal-doc\n",
            "The following NEW packages will be installed:\n",
            "  libgeos-dev\n",
            "0 upgraded, 1 newly installed, 0 to remove and 6 not upgraded.\n",
            "Need to get 73.1 kB of archives.\n",
            "After this operation, 486 kB of additional disk space will be used.\n",
            "Get:1 http://archive.ubuntu.com/ubuntu bionic/universe amd64 libgeos-dev amd64 3.6.2-1build2 [73.1 kB]\n",
            "Fetched 73.1 kB in 0s (177 kB/s)\n",
            "Selecting previously unselected package libgeos-dev.\n",
            "(Reading database ... 130911 files and directories currently installed.)\n",
            "Preparing to unpack .../libgeos-dev_3.6.2-1build2_amd64.deb ...\n",
            "Unpacking libgeos-dev (3.6.2-1build2) ...\n",
            "Setting up libgeos-dev (3.6.2-1build2) ...\n",
            "Processing triggers for man-db (2.8.3-2ubuntu0.1) ...\n",
            "Collecting https://github.com/matplotlib/basemap/archive/master.zip\n",
            "\u001b[?25l  Downloading https://github.com/matplotlib/basemap/archive/master.zip\n",
            "\u001b[K     \\ 188.3MB 91.3MB/s\n",
            "\u001b[?25hRequirement already satisfied: matplotlib!=3.0.1,>=1.0.0 in /usr/local/lib/python3.6/dist-packages (from basemap==1.2.0) (3.0.3)\n",
            "Requirement already satisfied: numpy>=1.2.1 in /usr/local/lib/python3.6/dist-packages (from basemap==1.2.0) (1.16.3)\n",
            "Collecting pyproj>=1.9.3 (from basemap==1.2.0)\n",
            "\u001b[?25l  Downloading https://files.pythonhosted.org/packages/ab/c8/090cd8eae755171959fac28d4bd537cc2caf168caadb92d8e505229c486b/pyproj-2.1.3-cp36-cp36m-manylinux1_x86_64.whl (10.8MB)\n",
            "\u001b[K     |████████████████████████████████| 10.8MB 2.7MB/s \n",
            "\u001b[?25hCollecting pyshp>=1.2.0 (from basemap==1.2.0)\n",
            "\u001b[?25l  Downloading https://files.pythonhosted.org/packages/27/16/3bf15aa864fb77845fab8007eda22c2bd67bd6c1fd13496df452c8c43621/pyshp-2.1.0.tar.gz (215kB)\n",
            "\u001b[K     |████████████████████████████████| 225kB 46.1MB/s \n",
            "\u001b[?25hRequirement already satisfied: six in /usr/local/lib/python3.6/dist-packages (from basemap==1.2.0) (1.12.0)\n",
            "Requirement already satisfied: cycler>=0.10 in /usr/local/lib/python3.6/dist-packages (from matplotlib!=3.0.1,>=1.0.0->basemap==1.2.0) (0.10.0)\n",
            "Requirement already satisfied: python-dateutil>=2.1 in /usr/local/lib/python3.6/dist-packages (from matplotlib!=3.0.1,>=1.0.0->basemap==1.2.0) (2.5.3)\n",
            "Requirement already satisfied: kiwisolver>=1.0.1 in /usr/local/lib/python3.6/dist-packages (from matplotlib!=3.0.1,>=1.0.0->basemap==1.2.0) (1.1.0)\n",
            "Requirement already satisfied: pyparsing!=2.0.4,!=2.1.2,!=2.1.6,>=2.0.1 in /usr/local/lib/python3.6/dist-packages (from matplotlib!=3.0.1,>=1.0.0->basemap==1.2.0) (2.4.0)\n",
            "Requirement already satisfied: setuptools in /usr/local/lib/python3.6/dist-packages (from kiwisolver>=1.0.1->matplotlib!=3.0.1,>=1.0.0->basemap==1.2.0) (41.0.1)\n",
            "Building wheels for collected packages: basemap, pyshp\n",
            "  Building wheel for basemap (setup.py) ... \u001b[?25l\u001b[?25hdone\n",
            "  Stored in directory: /tmp/pip-ephem-wheel-cache-g6qa0r_h/wheels/98/4a/fc/ce719b75d97e646645c225f3332b1b217536100314922e9572\n",
            "  Building wheel for pyshp (setup.py) ... \u001b[?25l\u001b[?25hdone\n",
            "  Stored in directory: /root/.cache/pip/wheels/a6/0c/de/321b5192ad416b328975a2f0385f72c64db4656501eba7cc1a\n",
            "Successfully built basemap pyshp\n",
            "Installing collected packages: pyproj, pyshp, basemap\n",
            "Successfully installed basemap-1.2.0 pyproj-2.1.3 pyshp-2.1.0\n"
          ],
          "name": "stdout"
        },
        {
          "output_type": "display_data",
          "data": {
            "application/vnd.colab-display-data+json": {
              "pip_warning": {
                "packages": [
                  "mpl_toolkits"
                ]
              }
            }
          },
          "metadata": {
            "tags": []
          }
        }
      ]
    },
    {
      "cell_type": "code",
      "metadata": {
        "id": "--yDSrMhVR2q",
        "colab_type": "code",
        "outputId": "bab9cd14-4919-4f3e-868e-2b51868989e7",
        "colab": {
          "base_uri": "https://localhost:8080/",
          "height": 218
        }
      },
      "source": [
        "!pip install pyproj==1.9.6"
      ],
      "execution_count": 2,
      "outputs": [
        {
          "output_type": "stream",
          "text": [
            "Collecting pyproj==1.9.6\n",
            "\u001b[?25l  Downloading https://files.pythonhosted.org/packages/26/8c/1da0580f334718e04f8bbf74f0515a7fb8185ff96b2560ce080c11aa145b/pyproj-1.9.6.tar.gz (2.8MB)\n",
            "\u001b[K     |████████████████████████████████| 2.8MB 2.8MB/s \n",
            "\u001b[?25hBuilding wheels for collected packages: pyproj\n",
            "  Building wheel for pyproj (setup.py) ... \u001b[?25l\u001b[?25hdone\n",
            "  Stored in directory: /root/.cache/pip/wheels/02/cd/b1/a2d6430f74c7a778a43d62f78bec109ca69c732dc9b929142a\n",
            "Successfully built pyproj\n",
            "Installing collected packages: pyproj\n",
            "  Found existing installation: pyproj 2.1.3\n",
            "    Uninstalling pyproj-2.1.3:\n",
            "      Successfully uninstalled pyproj-2.1.3\n",
            "Successfully installed pyproj-1.9.6\n"
          ],
          "name": "stdout"
        }
      ]
    },
    {
      "cell_type": "markdown",
      "metadata": {
        "id": "o19QqV6AA3zD",
        "colab_type": "text"
      },
      "source": [
        "# Begin producing the region map"
      ]
    },
    {
      "cell_type": "markdown",
      "metadata": {
        "id": "R5iWaCRmA9Ze",
        "colab_type": "text"
      },
      "source": [
        "Here I just did Yorkshire but perhaps we can change it to the whole uk"
      ]
    },
    {
      "cell_type": "code",
      "metadata": {
        "id": "d3SSuCZ-VYMZ",
        "colab_type": "code",
        "colab": {}
      },
      "source": [
        "from mpl_toolkits.basemap import Basemap\n",
        "import matplotlib.pyplot as plt\n",
        "%matplotlib inline"
      ],
      "execution_count": 0,
      "outputs": []
    },
    {
      "cell_type": "code",
      "metadata": {
        "id": "vSG2w85BUIfV",
        "colab_type": "code",
        "colab": {}
      },
      "source": [
        "import matplotlib.pyplot as plt\n",
        "import matplotlib.cm\n",
        " \n",
        "from mpl_toolkits.basemap import Basemap\n",
        "from matplotlib.patches import Polygon\n",
        "from matplotlib.collections import PatchCollection\n",
        "from matplotlib.colors import Normalize"
      ],
      "execution_count": 0,
      "outputs": []
    },
    {
      "cell_type": "code",
      "metadata": {
        "id": "LzQ33ZUpUW9c",
        "colab_type": "code",
        "outputId": "f63e041f-4f47-4fb1-a3c9-97a66af1451e",
        "colab": {
          "base_uri": "https://localhost:8080/",
          "height": 518
        }
      },
      "source": [
        "fig, ax = plt.subplots(figsize=(10,20))\n",
        "m = Basemap(resolution='l', # c, l, i, h, f or None # These are the resolutions, crude low intermediate high and full. Use low or crude to begin then full at the end.\n",
        "            projection='merc',\n",
        "            lat_0=54.5, lon_0=-4.36,\n",
        "            llcrnrlon=-2.37, llcrnrlat= 53.17, urcrnrlon=0.32, urcrnrlat=54.49)\n",
        "\n",
        "m.drawmapboundary(fill_color='#46bcec')\n",
        "m.fillcontinents(color='#f2f2f2',lake_color='#46bcec')\n",
        "m.drawcoastlines()\n",
        "\n",
        "#Next; Need to uploaded shape files to github and access them using the script below\n",
        "\n",
        "#boundaries\n",
        "#m.readshapefile('data/uk_postcode_bounds/Areas', 'areas')"
      ],
      "execution_count": 7,
      "outputs": [
        {
          "output_type": "execute_result",
          "data": {
            "text/plain": [
              "<matplotlib.collections.LineCollection at 0x7f130215cf28>"
            ]
          },
          "metadata": {
            "tags": []
          },
          "execution_count": 7
        },
        {
          "output_type": "display_data",
          "data": {
            "image/png": "[encoded data removed]",
            "text/plain": [
              "<Figure size 720x1440 with 1 Axes>"
            ]
          },
          "metadata": {
            "tags": []
          }
        }
      ]
    },
    {
      "cell_type": "markdown",
      "metadata": {
        "id": "_RdVpZmbBIdB",
        "colab_type": "text"
      },
      "source": [
        "# Changing the dataset so that it will show up on a map"
      ]
    },
    {
      "cell_type": "markdown",
      "metadata": {
        "id": "3cukGcL4BOm5",
        "colab_type": "text"
      },
      "source": [
        "1.   Need to make the location data so that it has a longditude and latitude\n",
        "> a. Success! Was able to get the shape files and other data from geoportal.statistics.gov.uk\n",
        "\n",
        "> b. Was able to get them for CCG and region\n",
        "\n",
        "\n",
        "2.   Need to remove superfluous collumns\n",
        "3.   Do basic exploratory analysis\n"
      ]
    },
    {
      "cell_type": "code",
      "metadata": {
        "id": "tL96xMxiB10b",
        "colab_type": "code",
        "colab": {}
      },
      "source": [
        "import numpy as np\n",
        "import matplotlib.pyplot as plt\n",
        "import pandas as pd\n",
        "import seaborn as sns\n",
        "\n",
        "sns.set(style=\"white\", color_codes=True)\n",
        "\n",
        "%matplotlib inline"
      ],
      "execution_count": 0,
      "outputs": []
    },
    {
      "cell_type": "code",
      "metadata": {
        "id": "T1-_OG0_CB8S",
        "colab_type": "code",
        "colab": {
          "base_uri": "https://localhost:8080/",
          "height": 195
        },
        "outputId": "fabc56e0-14af-4148-9492-e1f4d8eaad8e"
      },
      "source": [
        "df = pd.read_csv(\"https://raw.githubusercontent.com/EnglishDevil/Mapthing/master/Obes-phys-acti-diet-eng-tab-2019%20table%204.2.csv\")\n",
        "df.head()\n",
        "\n",
        "#Need to remove the unamed collumn.\n",
        "#Need to see if it can plot the data sensibly, like rearrange the data so that all of the N are collated etc.\n",
        "#Need to use the long and lat data from geoportal to give each of the CCG's a long and lat so the shape file can be used."
      ],
      "execution_count": 11,
      "outputs": [
        {
          "output_type": "execute_result",
          "data": {
            "text/html": [
              "<div>\n",
              "<style scoped>\n",
              "    .dataframe tbody tr th:only-of-type {\n",
              "        vertical-align: middle;\n",
              "    }\n",
              "\n",
              "    .dataframe tbody tr th {\n",
              "        vertical-align: top;\n",
              "    }\n",
              "\n",
              "    .dataframe thead th {\n",
              "        text-align: right;\n",
              "    }\n",
              "</style>\n",
              "<table border=\"1\" class=\"dataframe\">\n",
              "  <thead>\n",
              "    <tr style=\"text-align: right;\">\n",
              "      <th></th>\n",
              "      <th>Region</th>\n",
              "      <th>Unnamed: 1</th>\n",
              "      <th>Commissioning_Region</th>\n",
              "      <th>Area</th>\n",
              "      <th>CCG</th>\n",
              "      <th>Prescription items</th>\n",
              "      <th>per_1000_pop</th>\n",
              "    </tr>\n",
              "  </thead>\n",
              "  <tbody>\n",
              "    <tr>\n",
              "      <th>0</th>\n",
              "      <td>E92000001</td>\n",
              "      <td>NaN</td>\n",
              "      <td>NaN</td>\n",
              "      <td>NaN</td>\n",
              "      <td>ENGLAND</td>\n",
              "      <td>389,464</td>\n",
              "      <td>7.0</td>\n",
              "    </tr>\n",
              "    <tr>\n",
              "      <th>1</th>\n",
              "      <td>E40000001</td>\n",
              "      <td>NaN</td>\n",
              "      <td>Y54</td>\n",
              "      <td>N</td>\n",
              "      <td>North of England</td>\n",
              "      <td>141,897</td>\n",
              "      <td>9.0</td>\n",
              "    </tr>\n",
              "    <tr>\n",
              "      <th>2</th>\n",
              "      <td>E39000029</td>\n",
              "      <td>NaN</td>\n",
              "      <td>Q72</td>\n",
              "      <td>N</td>\n",
              "      <td>NHS England North (Yorkshire and Humber)</td>\n",
              "      <td>47,999</td>\n",
              "      <td>9.0</td>\n",
              "    </tr>\n",
              "    <tr>\n",
              "      <th>3</th>\n",
              "      <td>E38000001</td>\n",
              "      <td>NaN</td>\n",
              "      <td>02N</td>\n",
              "      <td>N</td>\n",
              "      <td>NHS Airedale, Wharfedale and Craven</td>\n",
              "      <td>827</td>\n",
              "      <td>5.0</td>\n",
              "    </tr>\n",
              "    <tr>\n",
              "      <th>4</th>\n",
              "      <td>E38000006</td>\n",
              "      <td>NaN</td>\n",
              "      <td>02P</td>\n",
              "      <td>N</td>\n",
              "      <td>NHS Barnsley</td>\n",
              "      <td>3,996</td>\n",
              "      <td>16.0</td>\n",
              "    </tr>\n",
              "  </tbody>\n",
              "</table>\n",
              "</div>"
            ],
            "text/plain": [
              "      Region  Unnamed: 1  ... Prescription items per_1000_pop\n",
              "0  E92000001         NaN  ...            389,464          7.0\n",
              "1  E40000001         NaN  ...            141,897          9.0\n",
              "2  E39000029         NaN  ...             47,999          9.0\n",
              "3  E38000001         NaN  ...                827          5.0\n",
              "4  E38000006         NaN  ...              3,996         16.0\n",
              "\n",
              "[5 rows x 7 columns]"
            ]
          },
          "metadata": {
            "tags": []
          },
          "execution_count": 11
        }
      ]
    },
    {
      "cell_type": "markdown",
      "metadata": {
        "id": "-PeOH6I5BC1F",
        "colab_type": "text"
      },
      "source": [
        "# Stuff to do with saving the libaries in gdrive"
      ]
    },
    {
      "cell_type": "code",
      "metadata": {
        "id": "eXv-ZVbcZhGI",
        "colab_type": "code",
        "outputId": "2814399c-0aa2-4361-daea-7dfdffc1fb47",
        "colab": {
          "base_uri": "https://localhost:8080/",
          "height": 246
        }
      },
      "source": [
        "import os, sys\n",
        "from google.colab import drive\n",
        "drive.mount('/content/mnt')\n",
        "nb_path = '/content/notebooks'\n",
        "os.symlink('/content/mnt/My Drive/Colab Notebooks', nb_path)\n",
        "sys.path.append(0,nb_path)\n",
        "\n"
      ],
      "execution_count": 0,
      "outputs": [
        {
          "output_type": "stream",
          "text": [
            "Drive already mounted at /content/mnt; to attempt to forcibly remount, call drive.mount(\"/content/mnt\", force_remount=True).\n"
          ],
          "name": "stdout"
        },
        {
          "output_type": "error",
          "ename": "FileExistsError",
          "evalue": "ignored",
          "traceback": [
            "\u001b[0;31m---------------------------------------------------------------------------\u001b[0m",
            "\u001b[0;31mFileExistsError\u001b[0m                           Traceback (most recent call last)",
            "\u001b[0;32m<ipython-input-5-3f5223540c3e>\u001b[0m in \u001b[0;36m<module>\u001b[0;34m()\u001b[0m\n\u001b[1;32m      3\u001b[0m \u001b[0mdrive\u001b[0m\u001b[0;34m.\u001b[0m\u001b[0mmount\u001b[0m\u001b[0;34m(\u001b[0m\u001b[0;34m'/content/mnt'\u001b[0m\u001b[0;34m)\u001b[0m\u001b[0;34m\u001b[0m\u001b[0;34m\u001b[0m\u001b[0m\n\u001b[1;32m      4\u001b[0m \u001b[0mnb_path\u001b[0m \u001b[0;34m=\u001b[0m \u001b[0;34m'/content/notebooks'\u001b[0m\u001b[0;34m\u001b[0m\u001b[0;34m\u001b[0m\u001b[0m\n\u001b[0;32m----> 5\u001b[0;31m \u001b[0mos\u001b[0m\u001b[0;34m.\u001b[0m\u001b[0msymlink\u001b[0m\u001b[0;34m(\u001b[0m\u001b[0;34m'/content/mnt/My Drive/Colab Notebooks'\u001b[0m\u001b[0;34m,\u001b[0m \u001b[0mnb_path\u001b[0m\u001b[0;34m)\u001b[0m\u001b[0;34m\u001b[0m\u001b[0;34m\u001b[0m\u001b[0m\n\u001b[0m\u001b[1;32m      6\u001b[0m \u001b[0msys\u001b[0m\u001b[0;34m.\u001b[0m\u001b[0mpath\u001b[0m\u001b[0;34m.\u001b[0m\u001b[0mappend\u001b[0m\u001b[0;34m(\u001b[0m\u001b[0;36m0\u001b[0m\u001b[0;34m,\u001b[0m\u001b[0mnb_path\u001b[0m\u001b[0;34m)\u001b[0m\u001b[0;34m\u001b[0m\u001b[0;34m\u001b[0m\u001b[0m\n\u001b[1;32m      7\u001b[0m \u001b[0;34m\u001b[0m\u001b[0m\n",
            "\u001b[0;31mFileExistsError\u001b[0m: [Errno 17] File exists: '/content/mnt/My Drive/Colab Notebooks' -> '/content/notebooks'"
          ]
        }
      ]
    },
    {
      "cell_type": "code",
      "metadata": {
        "id": "GuTr60QdegB7",
        "colab_type": "code",
        "outputId": "cb9644d2-c32b-4775-a50f-30c1aa4100e4",
        "colab": {
          "base_uri": "https://localhost:8080/",
          "height": 34
        }
      },
      "source": [
        "!apt-get install --target=$nb_path libgeos-3.5.0"
      ],
      "execution_count": 0,
      "outputs": [
        {
          "output_type": "stream",
          "text": [
            "E: Command line option --target=/content/notebooks is not understood in combination with the other options\n"
          ],
          "name": "stdout"
        }
      ]
    }
  ]
}