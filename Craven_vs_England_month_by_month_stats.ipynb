{
  "nbformat": 4,
  "nbformat_minor": 0,
  "metadata": {
    "kernelspec": {
      "display_name": "Python 3",
      "language": "python",
      "name": "python3"
    },
    "language_info": {
      "codemirror_mode": {
        "name": "ipython",
        "version": 3
      },
      "file_extension": ".py",
      "mimetype": "text/x-python",
      "name": "python",
      "nbconvert_exporter": "python",
      "pygments_lexer": "ipython3",
      "version": "3.7.3"
    },
    "colab": {
      "name": "Craven vs England month by month stats.ipynb",
      "provenance": [],
      "toc_visible": true,
      "include_colab_link": true
    }
  },
  "cells": [
    {
      "cell_type": "markdown",
      "metadata": {
        "id": "view-in-github",
        "colab_type": "text"
      },
      "source": [
        "<a href=\"https://colab.research.google.com/github/EnglishDevil/Mapthing/blob/master/Craven_vs_England_month_by_month_stats.ipynb\" target=\"_parent\"><img src=\"https://colab.research.google.com/assets/colab-badge.svg\" alt=\"Open In Colab\"/></a>"
      ]
    },
    {
      "cell_type": "markdown",
      "metadata": {
        "id": "nN0s_uqhvSUq",
        "colab_type": "text"
      },
      "source": [
        "T test is compare two means\n",
        "\n",
        "compile big UK dataframe.\n",
        "remove wales\n",
        "reformat column names\n",
        "remove craven and create craven frame\n",
        "split into smaller monthly dataframes and group by crime totals\n",
        "do the same for the craven one\n",
        "get a mean across several months for both the craven one and the england one\n",
        "compare means\n",
        "\n",
        "England total - composed of All UK crime counts divided by whole UK population\n",
        "-REMOVE THE WALES DATA FIRST\n",
        "Skipton mean - composed of all Skipton crime counts divided by Skipton population\n",
        "\n",
        "Get a mean across all months for each crime in both skipton and uk\n",
        "Compare the mean\n",
        "Do t test\n",
        "....?\n",
        "WIN\n",
        "\n",
        "Get the Independant UK data, then sum (count) all of the occurances of crimes for each type of crime .groupby('Crime type').count()\n",
        "Do the same craven\n",
        "\n",
        "then divide by population\n",
        "\n",
        "then compare the figures\n",
        "\n",
        "\n",
        "If do it by LSOA, then first group and count by LSOA and CRIme type, then extract the craven or whatever data as it will save steps"
      ]
    },
    {
      "cell_type": "code",
      "metadata": {
        "id": "7HO0xJ4NvSUu",
        "colab_type": "code",
        "colab": {}
      },
      "source": [
        "%config IPCompleter.greedy=True\n",
        "import plotly.figure_factory as ff\n",
        "from matplotlib import pyplot"
      ],
      "execution_count": 0,
      "outputs": []
    },
    {
      "cell_type": "code",
      "metadata": {
        "id": "WKh51OtOvSU2",
        "colab_type": "code",
        "colab": {}
      },
      "source": [
        "#import the UK wide crim data. Dont forget to remove the craven stuff\n",
        "\n",
        "import glob\n",
        "import pandas as pd\n",
        "import numpy as np\n",
        "\n",
        "# glob.glob('data*.csv') - returns List[str]\n",
        "# pd.read_csv(f) - returns pd.DataFrame()\n",
        "# for f in glob.glob() - returns a List[DataFrames]\n",
        "# pd.concat() - returns one pd.DataFrame()\n",
        "ukdf = pd.concat([pd.read_csv(f) for f in glob.glob('D:/Ukwidecrimedata/*.csv')], ignore_index = True)\n",
        "ukdf.columns = [c.replace(' ', '_') for c in ukdf.columns]\n",
        "\n",
        "ukdf.info()"
      ],
      "execution_count": 0,
      "outputs": []
    },
    {
      "cell_type": "code",
      "metadata": {
        "id": "pMYFnZySvSU7",
        "colab_type": "code",
        "colab": {}
      },
      "source": [
        "#sam checked the distribution of the data\n",
        "ukdf.groupby(['LSOA_code']).Crime_ID.count().hist(bins=range(0,1000,25))"
      ],
      "execution_count": 0,
      "outputs": []
    },
    {
      "cell_type": "code",
      "metadata": {
        "id": "eYvRpCD5vSVA",
        "colab_type": "code",
        "colab": {}
      },
      "source": [
        "uklogprep = ukdf.groupby(['LSOA_code'])\n",
        "uklog = np.log(uklogprep)\n",
        "#uklog.groupby(['LSOA_code']).Crime_ID.count().hist(bins=range(0,1000,25))\n",
        "uklog"
      ],
      "execution_count": 0,
      "outputs": []
    },
    {
      "cell_type": "code",
      "metadata": {
        "id": "GvrT7s-SvSVF",
        "colab_type": "code",
        "colab": {}
      },
      "source": [
        "#create the craven table from the UK one. Then get a list of all of the craven codes so we can cut them from the main table\n",
        "craventest = ukdf[ukdf['LSOA_name'].str.contains(\"Craven\", na=False)]\n",
        "cravencorrect = craventest[['Crime_type','Month']]"
      ],
      "execution_count": 0,
      "outputs": []
    },
    {
      "cell_type": "code",
      "metadata": {
        "id": "SWc13gFSvSVJ",
        "colab_type": "code",
        "colab": {}
      },
      "source": [
        "#find all the values for wales\n",
        "wales = ukdf[ukdf['LSOA_code'].str.contains(\"W\", na=False)]\n",
        "wales['LSOA_code'].unique()"
      ],
      "execution_count": 0,
      "outputs": []
    },
    {
      "cell_type": "code",
      "metadata": {
        "id": "17B5eGe5vSVP",
        "colab_type": "code",
        "colab": {}
      },
      "source": [
        "#check that everything is ok\n",
        "wales.info()"
      ],
      "execution_count": 0,
      "outputs": []
    },
    {
      "cell_type": "code",
      "metadata": {
        "id": "cLL24P0LvSVT",
        "colab_type": "code",
        "colab": {}
      },
      "source": [
        "#check this craven data is ok\n",
        "cravencorrect.info()"
      ],
      "execution_count": 0,
      "outputs": []
    },
    {
      "cell_type": "code",
      "metadata": {
        "id": "1wlyYGR1vSVY",
        "colab_type": "code",
        "colab": {}
      },
      "source": [
        "#craventest.index this is all of the row numbers from the origional table for the craven crimes. This line is to explain that"
      ],
      "execution_count": 0,
      "outputs": []
    },
    {
      "cell_type": "code",
      "metadata": {
        "id": "gS8pJA1RvSVm",
        "colab_type": "code",
        "colab": {}
      },
      "source": [
        "#another method would be. probably better and much faster\n",
        "#df.drop(df[df.column.str.contains]).index)\n",
        "nocravenuk = ukdf.drop(index=craventest.index) #this works by dropping all of the rows where the index is equal the non-reset indexes of the craven table drawn from the main dataset\n",
        "engonly = nocravenuk.drop(index=wales.index) #remove the wales data"
      ],
      "execution_count": 0,
      "outputs": []
    },
    {
      "cell_type": "code",
      "metadata": {
        "id": "76JSJy4zvSVx",
        "colab_type": "code",
        "colab": {}
      },
      "source": [
        "#just confirm it really has no welsh codes in. It doesn't.\n",
        "engonly[engonly['LSOA_code'].str.contains(\"W\", na=False)]['LSOA_name'].unique()"
      ],
      "execution_count": 0,
      "outputs": []
    },
    {
      "cell_type": "code",
      "metadata": {
        "id": "FSnA0H5EvSV6",
        "colab_type": "code",
        "colab": {}
      },
      "source": [
        "eng_ind = engonly[['Crime_type', 'Month']]\n",
        "eng_ind.info()\n",
        "eng_ind.head()"
      ],
      "execution_count": 0,
      "outputs": []
    },
    {
      "cell_type": "markdown",
      "metadata": {
        "id": "32bippsavSWA",
        "colab_type": "text"
      },
      "source": [
        "Next need to split the data up into months\n",
        "Then group by crime\n",
        "Then do means\n",
        "Check if the data distribution. Sam said binomial distribution\n",
        "4th then do the test"
      ]
    },
    {
      "cell_type": "code",
      "metadata": {
        "id": "yl3mC6vJvSWB",
        "colab_type": "code",
        "colab": {}
      },
      "source": [
        "#April\n",
        "ukapril = eng_ind.loc[eng_ind['Month'] == '2019-04']\n",
        "ukapril.rename(columns={'Month':'April'}, inplace=True)\n",
        "cravenapril = cravencorrect.loc[cravencorrect['Month'] == '2019-04']\n",
        "cravenapril.rename(columns={'Month':'April'}, inplace=True)\n",
        "#May\n",
        "ukmay = eng_ind.loc[eng_ind['Month'] == '2019-05']\n",
        "ukmay.rename(columns={'Month':'May'}, inplace=True)\n",
        "cravenmay = cravencorrect.loc[cravencorrect['Month'] == '2019-05']\n",
        "cravenmay.rename(columns={'Month':'May'}, inplace=True)\n",
        "#June\n",
        "ukjune = eng_ind.loc[eng_ind['Month'] == '2019-06']\n",
        "ukjune.rename(columns={'Month':'June'}, inplace=True)\n",
        "cravenjune = cravencorrect.loc[cravencorrect['Month'] == '2019-06']\n",
        "cravenjune.rename(columns={'Month':'June'}, inplace=True)\n",
        "#July\n",
        "ukjuly = eng_ind.loc[eng_ind['Month'] == '2019-07']\n",
        "ukjuly.rename(columns={'Month':'July'}, inplace=True)\n",
        "cravenjuly = cravencorrect.loc[cravencorrect['Month'] == '2019-07']\n",
        "cravenjuly.rename(columns={'Month':'July'}, inplace=True)\n",
        "#August\n",
        "ukaugust = eng_ind.loc[eng_ind['Month'] == '2019-08']\n",
        "ukaugust.rename(columns={'Month':'August'}, inplace=True)\n",
        "cravenaugust = cravencorrect.loc[cravencorrect['Month'] == '2019-08']\n",
        "cravenaugust.rename(columns={'Month':'August'}, inplace=True)\n",
        "#September\n",
        "uksep = eng_ind.loc[eng_ind['Month'] == '2019-09']\n",
        "uksep.rename(columns={'Month':'September'}, inplace=True)\n",
        "cravensep = cravencorrect.loc[cravencorrect['Month'] == '2019-09']\n",
        "cravensep.rename(columns={'Month':'September'}, inplace=True)"
      ],
      "execution_count": 0,
      "outputs": []
    },
    {
      "cell_type": "code",
      "metadata": {
        "id": "EO1oI8eRvSWG",
        "colab_type": "code",
        "colab": {}
      },
      "source": [
        "#Group the data by crime type\n",
        "#april\n",
        "ukapril_group = ukapril.groupby('Crime_type').count()\n",
        "cravenapril_group = cravenapril.groupby('Crime_type').count()\n",
        "#may\n",
        "ukmay_group = ukmay.groupby('Crime_type').count()\n",
        "cravenmay_group = cravenmay.groupby('Crime_type').count()\n",
        "#june\n",
        "ukjune_group = ukjune.groupby('Crime_type').count()\n",
        "cravenjune_group = cravenjune.groupby('Crime_type').count()\n",
        "#july\n",
        "ukjuly_group = ukjuly.groupby('Crime_type').count()\n",
        "cravenjuly_group = cravenjuly.groupby('Crime_type').count()\n",
        "#august\n",
        "ukaugust_group = ukaugust.groupby('Crime_type').count()\n",
        "cravenaugust_group = cravenaugust.groupby('Crime_type').count()\n",
        "#september\n",
        "uksep_group = uksep.groupby('Crime_type').count()\n",
        "cravensep_group = cravensep.groupby('Crime_type').count()"
      ],
      "execution_count": 0,
      "outputs": []
    },
    {
      "cell_type": "code",
      "metadata": {
        "id": "j76m42XTvSWK",
        "colab_type": "code",
        "colab": {}
      },
      "source": [
        "#divide by the populations\n",
        "engpop = 66435600\n",
        "cravenpop = 53600\n",
        "#april\n",
        "engpopapril = ukapril_group.div(engpop-cravenpop)\n",
        "cravenpopapril = cravenapril_group.div(cravenpop)\n",
        "#may\n",
        "engpopmay = ukmay_group.div(engpop-cravenpop)\n",
        "cravenpopmay = cravenapril_group.div(cravenpop)\n",
        "#june\n",
        "engpopjune = ukjune_group.div(engpop-cravenpop)\n",
        "cravenpopjune = cravenjune_group.div(cravenpop)\n",
        "#july\n",
        "engpopjuly = ukjuly_group.div(engpop-cravenpop)\n",
        "cravenpopjuly = cravenjuly_group.div(cravenpop)\n",
        "#august\n",
        "engpopaugust = ukaugust_group.div(engpop-cravenpop)\n",
        "cravenpopaugust = cravenaugust_group.div(cravenpop)\n",
        "#september\n",
        "engpopsep = uksep_group.div(engpop-cravenpop)\n",
        "cravenpopsep = cravensep_group.div(cravenpop)"
      ],
      "execution_count": 0,
      "outputs": []
    },
    {
      "cell_type": "code",
      "metadata": {
        "id": "B3b4_KjsvSWO",
        "colab_type": "code",
        "colab": {}
      },
      "source": [
        "cravenmeanmaker = pd.concat([cravenpopapril, cravenpopmay, cravenpopjune, cravenpopjuly, cravenpopaugust, cravenpopsep], axis=1).fillna(0)\n",
        "cravenmean = cravenmeanmaker.transpose().mean()\n",
        "#could also do mean(axis=1)\n",
        "cravenmean\n"
      ],
      "execution_count": 0,
      "outputs": []
    },
    {
      "cell_type": "code",
      "metadata": {
        "id": "HEnnft1qvSWT",
        "colab_type": "code",
        "colab": {}
      },
      "source": [
        "#much better and less stupid way than concat\n",
        "frame = {'craven': cravenmean, 'england': engmean}\n",
        "pd.DataFrame(frame)\n"
      ],
      "execution_count": 0,
      "outputs": []
    },
    {
      "cell_type": "code",
      "metadata": {
        "id": "Mf9b3ONWvSWa",
        "colab_type": "code",
        "colab": {}
      },
      "source": [
        "engmeanmaker = pd.concat([engpopapril, engpopmay,engpopjune,engpopjuly,engpopaugust,engpopsep],axis=1)\n",
        "engmean = engmeanmaker.transpose().mean()\n",
        "engmean"
      ],
      "execution_count": 0,
      "outputs": []
    },
    {
      "cell_type": "code",
      "metadata": {
        "id": "vsTGw7xrvSWf",
        "colab_type": "code",
        "colab": {}
      },
      "source": [
        "engmeanmaker.loc['Burglary',:]"
      ],
      "execution_count": 0,
      "outputs": []
    },
    {
      "cell_type": "code",
      "metadata": {
        "id": "AUkw3HoEvSWm",
        "colab_type": "code",
        "colab": {}
      },
      "source": [
        "# concat both the frames and drop the rows with Nan\n",
        "comparison = pd.concat([cravenmean, engmean], axis=1).fillna(0).reset_index()\n",
        "comparison.rename(columns={0:'Craven', 1:'England'}, inplace=True)\n",
        "comparison\n",
        "# monthly crimes per head (averaged over 6 months)"
      ],
      "execution_count": 0,
      "outputs": []
    },
    {
      "cell_type": "markdown",
      "metadata": {
        "id": "1rEcznJkvSWv",
        "colab_type": "text"
      },
      "source": [
        "next perform the analysis. Sam said a series of t tests comparing the two results for each line. maybe do anova instead? the test below was recmmened on some random help page as apparently better than t-test if the data is independant. "
      ]
    },
    {
      "cell_type": "code",
      "metadata": {
        "id": "VWbY5SzsvSWy",
        "colab_type": "code",
        "colab": {}
      },
      "source": [
        "engmeanmaker.loc['Burglary',:]"
      ],
      "execution_count": 0,
      "outputs": []
    },
    {
      "cell_type": "markdown",
      "metadata": {
        "id": "iWlBQqqmvSW9",
        "colab_type": "text"
      },
      "source": [
        "#### Aside on slices:"
      ]
    },
    {
      "cell_type": "code",
      "metadata": {
        "id": "CfUPodkevSW-",
        "colab_type": "code",
        "colab": {}
      },
      "source": [
        "x  =[0,5,'dog','cat']\n",
        "x[:]"
      ],
      "execution_count": 0,
      "outputs": []
    },
    {
      "cell_type": "code",
      "metadata": {
        "id": "VLeMQYLnvSXG",
        "colab_type": "code",
        "colab": {}
      },
      "source": [
        "x[0]"
      ],
      "execution_count": 0,
      "outputs": []
    },
    {
      "cell_type": "code",
      "metadata": {
        "id": "RAbHWNxJvSXJ",
        "colab_type": "code",
        "colab": {}
      },
      "source": [
        "x[2:]"
      ],
      "execution_count": 0,
      "outputs": []
    },
    {
      "cell_type": "code",
      "metadata": {
        "id": "94GRY3tuvSXQ",
        "colab_type": "code",
        "colab": {}
      },
      "source": [
        "x[:2]"
      ],
      "execution_count": 0,
      "outputs": []
    },
    {
      "cell_type": "code",
      "metadata": {
        "id": "Ns5tkPD-vSXU",
        "colab_type": "code",
        "colab": {}
      },
      "source": [
        "x[-1]"
      ],
      "execution_count": 0,
      "outputs": []
    },
    {
      "cell_type": "code",
      "metadata": {
        "id": "I2-yPyGPvSXX",
        "colab_type": "code",
        "colab": {}
      },
      "source": [
        "x[:-2]"
      ],
      "execution_count": 0,
      "outputs": []
    },
    {
      "cell_type": "markdown",
      "metadata": {
        "id": "n8KxO94_vSXc",
        "colab_type": "text"
      },
      "source": [
        "#### Back to the action"
      ]
    },
    {
      "cell_type": "code",
      "metadata": {
        "id": "eZNbhpUJvSXd",
        "colab_type": "code",
        "colab": {}
      },
      "source": [
        "import scipy\n",
        "#need to specify the row in this table\n",
        "\n",
        "scipy.stats.ttest_ind(cravenmeanmaker.loc['Burglary',:], # <- asking for the Burglary row, and ALL of the columns\n",
        "                      engmeanmaker.loc['Burglary',:], equal_var=True)"
      ],
      "execution_count": 0,
      "outputs": []
    },
    {
      "cell_type": "code",
      "metadata": {
        "id": "W8qUDlzZvSXh",
        "colab_type": "code",
        "colab": {}
      },
      "source": [
        "for crime_type in cravenmeanmaker.index.tolist():\n",
        "    ttest_out = scipy.stats.ttest_ind(cravenmeanmaker.loc[crime_type,:], # <- asking for the \n",
        "                          engmeanmaker.loc[crime_type,:], equal_var=True)\n",
        "    craven_mean = cravenmeanmaker.loc[crime_type,:].mean()\n",
        "    eng_mean = engmeanmaker.loc[crime_type,:].mean()\n",
        "    \n",
        "    print(f'{crime_type}, : Craven {craven_mean:.5f}, England {eng_mean:5f}, ', ttest_out)"
      ],
      "execution_count": 0,
      "outputs": []
    },
    {
      "cell_type": "code",
      "metadata": {
        "id": "-tbYZKuevSX1",
        "colab_type": "code",
        "colab": {}
      },
      "source": [
        "# D'Agostino and Pearson's Test\n",
        "from numpy.random import seed\n",
        "from numpy.random import randn\n",
        "from scipy.stats import normaltest\n",
        "# seed the random number generator\n",
        "seed(1)\n",
        "# generate univariate observations\n",
        "data = 5 * randn(100) + 50\n",
        "# normality test\n",
        "stat, p = normaltest(data)\n",
        "print('Statistics=%.3f, p=%.3f' % (stat, p))\n",
        "# interpret\n",
        "alpha = 0.05\n",
        "if p > alpha:\n",
        "\tprint('Sample looks Gaussian (fail to reject H0)')\n",
        "else:\n",
        "\tprint('Sample does not look Gaussian (reject H0)')"
      ],
      "execution_count": 0,
      "outputs": []
    },
    {
      "cell_type": "code",
      "metadata": {
        "id": "B4jVj36RvSX8",
        "colab_type": "code",
        "colab": {}
      },
      "source": [
        "eng_ind.reset_index().groupby(['Month','Crime_type']).count().div(engpop-cravenpop)"
      ],
      "execution_count": 0,
      "outputs": []
    },
    {
      "cell_type": "code",
      "metadata": {
        "id": "rEoxSlIIvSYH",
        "colab_type": "code",
        "colab": {}
      },
      "source": [
        "x = cravencorrect.reset_index().groupby(['Month','Crime_type']).count().div(cravenpop)"
      ],
      "execution_count": 0,
      "outputs": []
    },
    {
      "cell_type": "code",
      "metadata": {
        "id": "9A0MQAg2vSYQ",
        "colab_type": "code",
        "colab": {}
      },
      "source": [
        "x.reset_index()"
      ],
      "execution_count": 0,
      "outputs": []
    },
    {
      "cell_type": "code",
      "metadata": {
        "id": "auHpe0VKvSYU",
        "colab_type": "code",
        "colab": {}
      },
      "source": [
        "x.reset_index().groupby('Crime_type').mean()[['index']]"
      ],
      "execution_count": 0,
      "outputs": []
    }
  ]
}